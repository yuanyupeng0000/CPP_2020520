{
 "cells": [
  {
   "cell_type": "code",
   "execution_count": 24,
   "metadata": {},
   "outputs": [],
   "source": [
    "#!/usr/bin/env python\n",
    "# _*_ coding:utf-8 _*_\n",
    "import cv2 as cv\n",
    "import numpy as np\n",
    "\n",
    "img1 = cv2.imread('opencvlogo.jpg')\n",
    "img2 = cv2.imread('fisherman.png')\n",
    "cv2.imshow('srclogo', img1)\n",
    "cv2.imshow('self_bitwise_and', cv2.bitwise_and(img1,img1))\n",
    "rows, cols, channels = img1.shape\n",
    "roi = img2[0:rows, 0:cols]\n",
    "img2gray = cv2.cvtColor(img1, cv2.COLOR_BGR2GRAY)\n",
    "ret, Mask = cv2.threshold(img2gray, 200, 255, cv2.THRESH_BINARY)\n",
    "cv2.imshow('mask', Mask)\n",
    "Mask_inv = cv2.bitwise_not(Mask)\n",
    "cv2.imshow('mask_inv', Mask_inv)\n",
    "img1_bg = cv2.bitwise_and(roi, roi, mask=Mask)\n",
    "cv2.imshow('img1_bg', img1_bg)\n",
    "img1_fg = cv2.bitwise_and(img1, img1, mask=Mask_inv)\n",
    "cv2.imshow('img1_fg', img1_fg)\n",
    "dst = cv2.add(img1_bg, img1_fg)\n",
    "img2[0:rows, 0:cols] = dst\n",
    "cv2.imshow('res', Mask)\n",
    "cv2.imshow('dst', img2)\n",
    "cv2.waitKey(0)\n",
    "cv2.destroyAllWindows()"
   ]
  },
  {
   "cell_type": "code",
   "execution_count": null,
   "metadata": {},
   "outputs": [],
   "source": []
  }
 ],
 "metadata": {
  "kernelspec": {
   "display_name": "Python 3",
   "language": "python",
   "name": "python3"
  },
  "language_info": {
   "codemirror_mode": {
    "name": "ipython",
    "version": 3
   },
   "file_extension": ".py",
   "mimetype": "text/x-python",
   "name": "python",
   "nbconvert_exporter": "python",
   "pygments_lexer": "ipython3",
   "version": "3.5.2"
  }
 },
 "nbformat": 4,
 "nbformat_minor": 2
}
